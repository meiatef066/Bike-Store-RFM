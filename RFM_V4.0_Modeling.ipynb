{
 "cells": [
  {
   "cell_type": "code",
   "execution_count": 2,
   "id": "8d6e423e-a9d2-465e-9c1b-a4a068e595b0",
   "metadata": {},
   "outputs": [],
   "source": [
    "################# Import the necessary libraries ##################\n",
    "import pandas as pd\n",
    "import numpy as np\n",
    "import matplotlib.pyplot as plt\n",
    "import seaborn as sns\n",
    "from sklearn.preprocessing import StandardScaler\n",
    "from sklearn.cluster import KMeans\n",
    "from sklearn.metrics import silhouette_score\n",
    "from sklearn.model_selection import train_test_split\n",
    "from sklearn.ensemble import RandomForestClassifier\n",
    "from sklearn.linear_model import LinearRegression\n",
    "from sklearn.metrics import mean_squared_error, r2_score , classification_report, accuracy_score , confusion_matrix , ConfusionMatrixDisplay\n",
    "from sklearn.metrics import roc_curve, roc_auc_score\n",
    "from sklearn.tree import DecisionTreeClassifier"
   ]
  },
  {
   "cell_type": "code",
   "execution_count": 4,
   "id": "53bce44c-5fd3-48f8-b0d6-25e469adef30",
   "metadata": {
    "scrolled": true
   },
   "outputs": [
    {
     "data": {
      "text/plain": [
       "'Classification for the Customers: define high-value and low-value customers based on the monetary feature. \\nHigh-Value: Monetary value above a certain threshold.\\nLow-Value: Monetary value below or equal to that threshold.'"
      ]
     },
     "execution_count": 4,
     "metadata": {},
     "output_type": "execute_result"
    }
   ],
   "source": [
    "'''Classification for the Customers: define high-value and low-value customers based on the monetary feature. \n",
    "High-Value: Monetary value above a certain threshold.\n",
    "Low-Value: Monetary value below or equal to that threshold.'''"
   ]
  },
  {
   "cell_type": "code",
   "execution_count": 6,
   "id": "4694a4f9-18cf-4311-a462-93ecff538f08",
   "metadata": {},
   "outputs": [
    {
     "data": {
      "text/html": [
       "<div>\n",
       "<style scoped>\n",
       "    .dataframe tbody tr th:only-of-type {\n",
       "        vertical-align: middle;\n",
       "    }\n",
       "\n",
       "    .dataframe tbody tr th {\n",
       "        vertical-align: top;\n",
       "    }\n",
       "\n",
       "    .dataframe thead th {\n",
       "        text-align: right;\n",
       "    }\n",
       "</style>\n",
       "<table border=\"1\" class=\"dataframe\">\n",
       "  <thead>\n",
       "    <tr style=\"text-align: right;\">\n",
       "      <th></th>\n",
       "      <th>customer_id</th>\n",
       "      <th>Recency</th>\n",
       "      <th>Frequency</th>\n",
       "      <th>Monetary</th>\n",
       "    </tr>\n",
       "  </thead>\n",
       "  <tbody>\n",
       "    <tr>\n",
       "      <th>0</th>\n",
       "      <td>1</td>\n",
       "      <td>8</td>\n",
       "      <td>11</td>\n",
       "      <td>311649.95</td>\n",
       "    </tr>\n",
       "    <tr>\n",
       "      <th>1</th>\n",
       "      <td>2</td>\n",
       "      <td>129</td>\n",
       "      <td>3</td>\n",
       "      <td>89248.07</td>\n",
       "    </tr>\n",
       "    <tr>\n",
       "      <th>2</th>\n",
       "      <td>4</td>\n",
       "      <td>196</td>\n",
       "      <td>2</td>\n",
       "      <td>34414.86</td>\n",
       "    </tr>\n",
       "    <tr>\n",
       "      <th>3</th>\n",
       "      <td>5</td>\n",
       "      <td>17</td>\n",
       "      <td>6</td>\n",
       "      <td>131870.09</td>\n",
       "    </tr>\n",
       "    <tr>\n",
       "      <th>4</th>\n",
       "      <td>6</td>\n",
       "      <td>65</td>\n",
       "      <td>5</td>\n",
       "      <td>667852.69</td>\n",
       "    </tr>\n",
       "    <tr>\n",
       "      <th>...</th>\n",
       "      <td>...</td>\n",
       "      <td>...</td>\n",
       "      <td>...</td>\n",
       "      <td>...</td>\n",
       "    </tr>\n",
       "    <tr>\n",
       "      <th>3483</th>\n",
       "      <td>3496</td>\n",
       "      <td>257</td>\n",
       "      <td>4</td>\n",
       "      <td>82100.13</td>\n",
       "    </tr>\n",
       "    <tr>\n",
       "      <th>3484</th>\n",
       "      <td>3497</td>\n",
       "      <td>53</td>\n",
       "      <td>3</td>\n",
       "      <td>89047.96</td>\n",
       "    </tr>\n",
       "    <tr>\n",
       "      <th>3485</th>\n",
       "      <td>3498</td>\n",
       "      <td>128</td>\n",
       "      <td>6</td>\n",
       "      <td>108224.70</td>\n",
       "    </tr>\n",
       "    <tr>\n",
       "      <th>3486</th>\n",
       "      <td>3499</td>\n",
       "      <td>52</td>\n",
       "      <td>7</td>\n",
       "      <td>176842.95</td>\n",
       "    </tr>\n",
       "    <tr>\n",
       "      <th>3487</th>\n",
       "      <td>3500</td>\n",
       "      <td>145</td>\n",
       "      <td>6</td>\n",
       "      <td>144980.52</td>\n",
       "    </tr>\n",
       "  </tbody>\n",
       "</table>\n",
       "<p>3488 rows × 4 columns</p>\n",
       "</div>"
      ],
      "text/plain": [
       "      customer_id  Recency  Frequency   Monetary\n",
       "0               1        8         11  311649.95\n",
       "1               2      129          3   89248.07\n",
       "2               4      196          2   34414.86\n",
       "3               5       17          6  131870.09\n",
       "4               6       65          5  667852.69\n",
       "...           ...      ...        ...        ...\n",
       "3483         3496      257          4   82100.13\n",
       "3484         3497       53          3   89047.96\n",
       "3485         3498      128          6  108224.70\n",
       "3486         3499       52          7  176842.95\n",
       "3487         3500      145          6  144980.52\n",
       "\n",
       "[3488 rows x 4 columns]"
      ]
     },
     "execution_count": 6,
     "metadata": {},
     "output_type": "execute_result"
    }
   ],
   "source": [
    "############### the RFM dataset ###############\n",
    "path = r\"D:\\IBM Data Science\\RFM_Project\\RFM_Table_Creation\\RFM_TABLE.csv\"\n",
    "rfm_df  = pd.read_csv(path , encoding = 'UTF-8')\n",
    "rfm_df "
   ]
  },
  {
   "cell_type": "code",
   "execution_count": 8,
   "id": "0558c4aa-ffd0-440a-baa3-b378b7f0bc16",
   "metadata": {},
   "outputs": [],
   "source": [
    "# Define threshold (Median) for high-value and low-value customers\n",
    "threshold = rfm_df['Monetary'].median()\n",
    "rfm_df['high_value'] = (rfm_df['Monetary'] > threshold).astype(int)\n",
    "\n",
    "# Features and target\n",
    "X = rfm_df[['Recency', 'Frequency', 'Monetary']]\n",
    "y = rfm_df['high_value']\n",
    "\n",
    "# Split the data into training and testing sets\n",
    "X_train, X_test, y_train, y_test = train_test_split(X, y, test_size=0.2, random_state=42)\n",
    "\n",
    "# Scale the features\n",
    "scaler = StandardScaler()\n",
    "X_train_scaled = scaler.fit_transform(X_train)\n",
    "X_test_scaled = scaler.transform(X_test)\n",
    "\n",
    "# Initialize and train the Random Forest Classifier\n",
    "rf_model = RandomForestClassifier(n_estimators=100, random_state=42)\n",
    "rf_model.fit(X_train_scaled, y_train)\n",
    "\n",
    "# Predict the target variable on the test set\n",
    "y_pred = rf_model.predict(X_test_scaled)"
   ]
  },
  {
   "cell_type": "code",
   "execution_count": 10,
   "id": "3838c988-5777-4bbc-9356-9acc33bd30b7",
   "metadata": {},
   "outputs": [
    {
     "name": "stdout",
     "output_type": "stream",
     "text": [
      "Accuracy: 100.00%\n",
      "\n",
      "Classification Report:\n",
      "               precision    recall  f1-score   support\n",
      "\n",
      "           0       1.00      1.00      1.00       346\n",
      "           1       1.00      1.00      1.00       352\n",
      "\n",
      "    accuracy                           1.00       698\n",
      "   macro avg       1.00      1.00      1.00       698\n",
      "weighted avg       1.00      1.00      1.00       698\n",
      "\n",
      "\n",
      "Confusion Matrix:\n",
      " [[346   0]\n",
      " [  0 352]]\n"
     ]
    }
   ],
   "source": [
    "# Evaluate the model using accuracy\n",
    "accuracy = accuracy_score(y_test, y_pred)\n",
    "print(\"Accuracy: {:.2f}%\".format(accuracy * 100))\n",
    "\n",
    "# Evaluate the model using classification report\n",
    "classification = classification_report(y_test, y_pred)\n",
    "print(\"\\nClassification Report:\\n\", classification)\n",
    "\n",
    "# Evaluate the model using confusion matrix\n",
    "confusion_mat = confusion_matrix(y_test, y_pred)\n",
    "print(\"\\nConfusion Matrix:\\n\", confusion_mat)"
   ]
  },
  {
   "cell_type": "code",
   "execution_count": 12,
   "id": "09490feb-7b56-4ba2-a7f4-f4f309583569",
   "metadata": {},
   "outputs": [
    {
     "data": {
      "image/png": "[encoded data removed]",
      "text/plain": [
       "<Figure size 640x480 with 2 Axes>"
      ]
     },
     "metadata": {},
     "output_type": "display_data"
    }
   ],
   "source": [
    "# Confusion matrix\n",
    "conf_matrix = confusion_matrix(y_test, y_pred)\n",
    "disp = ConfusionMatrixDisplay(confusion_matrix=conf_matrix, display_labels=['Low-Value', 'High-Value'])\n",
    "disp.plot(cmap='Blues')\n",
    "plt.title('Confusion Matrix')\n",
    "plt.show()"
   ]
  },
  {
   "cell_type": "code",
   "execution_count": null,
   "id": "38f4d692-694f-4292-b6a6-2bb30a267dbd",
   "metadata": {},
   "outputs": [],
   "source": []
  }
 ],
 "metadata": {
  "kernelspec": {
   "display_name": "Python 3 (ipykernel)",
   "language": "python",
   "name": "python3"
  },
  "language_info": {
   "codemirror_mode": {
    "name": "ipython",
    "version": 3
   },
   "file_extension": ".py",
   "mimetype": "text/x-python",
   "name": "python",
   "nbconvert_exporter": "python",
   "pygments_lexer": "ipython3",
   "version": "3.12.4"
  }
 },
 "nbformat": 4,
 "nbformat_minor": 5
}
